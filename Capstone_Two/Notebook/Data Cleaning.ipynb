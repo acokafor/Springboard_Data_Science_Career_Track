{
 "cells": [
  {
   "attachments": {},
   "cell_type": "markdown",
   "metadata": {},
   "source": [
    "# Introduction\n"
   ]
  },
  {
   "attachments": {},
   "cell_type": "markdown",
   "metadata": {},
   "source": [
    "### Load packages"
   ]
  },
  {
   "cell_type": "code",
   "execution_count": 4,
   "metadata": {},
   "outputs": [],
   "source": [
    "# load packages\n",
    "import pandas as pd\n",
    "import numpy as np\n",
    "import matplotlib.pyplot as plt\n",
    "import seaborn as sns\n",
    "import os\n",
    "from sklearn.decomposition import PCA\n",
    "from sklearn.preprocessing import scale"
   ]
  },
  {
   "attachments": {},
   "cell_type": "markdown",
   "metadata": {},
   "source": [
    "### Data collection"
   ]
  },
  {
   "cell_type": "code",
   "execution_count": 5,
   "metadata": {},
   "outputs": [],
   "source": [
    "# load the SalesForCourse_quizz_table dataset\n",
    "\n",
    "sales_data = pd.read_csv(r'../CapstoneTwo/SalesForCourse_quizz_table.csv')"
   ]
  },
  {
   "attachments": {},
   "cell_type": "markdown",
   "metadata": {},
   "source": [
    "### Data definition"
   ]
  },
  {
   "cell_type": "code",
   "execution_count": 6,
   "metadata": {},
   "outputs": [
    {
     "name": "stdout",
     "output_type": "stream",
     "text": [
      "(34867, 15)\n"
     ]
    }
   ],
   "source": [
    "# check the shape of the dataset\n",
    "\n",
    "print(sales_data.shape)"
   ]
  },
  {
   "cell_type": "code",
   "execution_count": 7,
   "metadata": {},
   "outputs": [
    {
     "name": "stdout",
     "output_type": "stream",
     "text": [
      "   index       Date    Year     Month  Customer Age Customer Gender  \\\n",
      "0      0  2/19/2016  2016.0  February          29.0               F   \n",
      "1      1  2/20/2016  2016.0  February          29.0               F   \n",
      "2      2  2/27/2016  2016.0  February          29.0               F   \n",
      "3      3  3/12/2016  2016.0     March          29.0               F   \n",
      "4      4  3/12/2016  2016.0     March          29.0               F   \n",
      "\n",
      "         Country       State Product Category     Sub Category  Quantity  \\\n",
      "0  United States  Washington      Accessories  Tires and Tubes       1.0   \n",
      "1  United States  Washington         Clothing           Gloves       2.0   \n",
      "2  United States  Washington      Accessories  Tires and Tubes       3.0   \n",
      "3  United States  Washington      Accessories  Tires and Tubes       2.0   \n",
      "4  United States  Washington      Accessories  Tires and Tubes       3.0   \n",
      "\n",
      "   Unit Cost  Unit Price   Cost  Revenue  \n",
      "0      80.00  109.000000   80.0    109.0  \n",
      "1      24.50   28.500000   49.0     57.0  \n",
      "2       3.67    5.000000   11.0     15.0  \n",
      "3      87.50  116.500000  175.0    233.0  \n",
      "4      35.00   41.666667  105.0    125.0  \n"
     ]
    }
   ],
   "source": [
    "# print the first five rows of the DataFrame\n",
    "\n",
    "print(sales_data.head())"
   ]
  },
  {
   "cell_type": "code",
   "execution_count": 8,
   "metadata": {},
   "outputs": [
    {
     "name": "stdout",
     "output_type": "stream",
     "text": [
      "<class 'pandas.core.frame.DataFrame'>\n",
      "RangeIndex: 34867 entries, 0 to 34866\n",
      "Data columns (total 15 columns):\n",
      " #   Column            Non-Null Count  Dtype  \n",
      "---  ------            --------------  -----  \n",
      " 0   index             34867 non-null  int64  \n",
      " 1   Date              34866 non-null  object \n",
      " 2   Year              34866 non-null  float64\n",
      " 3   Month             34866 non-null  object \n",
      " 4   Customer Age      34866 non-null  float64\n",
      " 5   Customer Gender   34866 non-null  object \n",
      " 6   Country           34866 non-null  object \n",
      " 7   State             34866 non-null  object \n",
      " 8   Product Category  34866 non-null  object \n",
      " 9   Sub Category      34866 non-null  object \n",
      " 10  Quantity          34866 non-null  float64\n",
      " 11  Unit Cost         34866 non-null  float64\n",
      " 12  Unit Price        34866 non-null  float64\n",
      " 13  Cost              34866 non-null  float64\n",
      " 14  Revenue           34867 non-null  float64\n",
      "dtypes: float64(7), int64(1), object(7)\n",
      "memory usage: 4.0+ MB\n",
      "None\n"
     ]
    }
   ],
   "source": [
    "# print the info() of sales_data\n",
    "\n",
    "print(sales_data.info())"
   ]
  },
  {
   "cell_type": "code",
   "execution_count": 9,
   "metadata": {},
   "outputs": [
    {
     "name": "stdout",
     "output_type": "stream",
     "text": [
      "Index(['index', 'Date', 'Year', 'Month', 'Customer Age', 'Customer Gender',\n",
      "       'Country', 'State', 'Product Category', 'Sub Category', 'Quantity',\n",
      "       'Unit Cost', 'Unit Price', 'Cost', 'Revenue'],\n",
      "      dtype='object')\n"
     ]
    }
   ],
   "source": [
    "# view only the columns\n",
    "\n",
    "print(sales_data.columns)"
   ]
  },
  {
   "cell_type": "code",
   "execution_count": 10,
   "metadata": {},
   "outputs": [
    {
     "name": "stdout",
     "output_type": "stream",
     "text": [
      "['Tires and Tubes' 'Gloves' 'Helmets' 'Bike Stands' 'Mountain Bikes'\n",
      " 'Hydration Packs' 'Jerseys' 'Fenders' 'Cleaners' 'Socks' 'Caps'\n",
      " 'Touring Bikes' 'Bottles and Cages' 'Vests' 'Road Bikes' 'Bike Racks'\n",
      " 'Shorts' nan]\n"
     ]
    }
   ],
   "source": [
    "# unique values in each column\n",
    "\n",
    "print(sales_data['Sub Category'].unique()) # 17 unique values"
   ]
  },
  {
   "cell_type": "code",
   "execution_count": 11,
   "metadata": {},
   "outputs": [
    {
     "name": "stdout",
     "output_type": "stream",
     "text": [
      "['Tires and Tubes' 'Gloves' 'Helmets' 'Bike Stands' 'Mountain Bikes'\n",
      " 'Hydration Packs' 'Jerseys' 'Fenders' 'Cleaners' 'Socks' 'Caps'\n",
      " 'Touring Bikes' 'Bottles and Cages' 'Vests' 'Road Bikes' 'Bike Racks'\n",
      " 'Shorts' nan]\n"
     ]
    }
   ],
   "source": [
    "# view the sub category\n",
    "\n",
    "print(sales_data['Sub Category'].unique())"
   ]
  },
  {
   "cell_type": "code",
   "execution_count": 12,
   "metadata": {},
   "outputs": [
    {
     "name": "stdout",
     "output_type": "stream",
     "text": [
      "              index          Year  Customer Age      Quantity     Unit Cost  \\\n",
      "count  34867.000000  34866.000000  34866.000000  34866.000000  34866.000000   \n",
      "mean   17433.000000   2015.569237     36.382895      2.002524    349.880567   \n",
      "std    10065.380254      0.495190     11.112902      0.813936    490.015846   \n",
      "min        0.000000   2015.000000     17.000000      1.000000      0.670000   \n",
      "25%     8716.500000   2015.000000     28.000000      1.000000     45.000000   \n",
      "50%    17433.000000   2016.000000     35.000000      2.000000    150.000000   \n",
      "75%    26149.500000   2016.000000     44.000000      3.000000    455.000000   \n",
      "max    34866.000000   2016.000000     87.000000      3.000000   3240.000000   \n",
      "\n",
      "         Unit Price          Cost       Revenue  \n",
      "count  34866.000000  34866.000000  34867.000000  \n",
      "mean     389.232485    576.004532    640.870093  \n",
      "std      525.319091    690.500395    736.640033  \n",
      "min        0.666667      2.000000      2.000000  \n",
      "25%       53.666667     85.000000    102.000000  \n",
      "50%      179.000000    261.000000    319.000000  \n",
      "75%      521.000000    769.000000    902.000000  \n",
      "max     5082.000000   3600.000000   5082.000000  \n"
     ]
    }
   ],
   "source": [
    "# range of values in each column\n",
    "\n",
    "print(sales_data.describe())"
   ]
  },
  {
   "attachments": {},
   "cell_type": "markdown",
   "metadata": {},
   "source": [
    "# II. Data cleaning"
   ]
  },
  {
   "cell_type": "code",
   "execution_count": 13,
   "metadata": {},
   "outputs": [
    {
     "name": "stdout",
     "output_type": "stream",
     "text": [
      "index               0\n",
      "Date                1\n",
      "Year                1\n",
      "Month               1\n",
      "Customer Age        1\n",
      "Customer Gender     1\n",
      "Country             1\n",
      "State               1\n",
      "Product Category    1\n",
      "Sub Category        1\n",
      "Quantity            1\n",
      "Unit Cost           1\n",
      "Unit Price          1\n",
      "Cost                1\n",
      "Revenue             0\n",
      "dtype: int64\n"
     ]
    }
   ],
   "source": [
    "# check for missing values\n",
    "\n",
    "print(sales_data.isnull().sum())"
   ]
  },
  {
   "cell_type": "code",
   "execution_count": 14,
   "metadata": {},
   "outputs": [
    {
     "data": {
      "text/html": [
       "<div>\n",
       "<style scoped>\n",
       "    .dataframe tbody tr th:only-of-type {\n",
       "        vertical-align: middle;\n",
       "    }\n",
       "\n",
       "    .dataframe tbody tr th {\n",
       "        vertical-align: top;\n",
       "    }\n",
       "\n",
       "    .dataframe thead th {\n",
       "        text-align: right;\n",
       "    }\n",
       "</style>\n",
       "<table border=\"1\" class=\"dataframe\">\n",
       "  <thead>\n",
       "    <tr style=\"text-align: right;\">\n",
       "      <th></th>\n",
       "      <th>index</th>\n",
       "      <th>Date</th>\n",
       "      <th>Year</th>\n",
       "      <th>Month</th>\n",
       "      <th>Customer Age</th>\n",
       "      <th>Customer Gender</th>\n",
       "      <th>Country</th>\n",
       "      <th>State</th>\n",
       "      <th>Product Category</th>\n",
       "      <th>Sub Category</th>\n",
       "      <th>Quantity</th>\n",
       "      <th>Unit Cost</th>\n",
       "      <th>Unit Price</th>\n",
       "      <th>Cost</th>\n",
       "      <th>Revenue</th>\n",
       "    </tr>\n",
       "  </thead>\n",
       "  <tbody>\n",
       "    <tr>\n",
       "      <th>34866</th>\n",
       "      <td>34866</td>\n",
       "      <td>NaN</td>\n",
       "      <td>NaN</td>\n",
       "      <td>NaN</td>\n",
       "      <td>NaN</td>\n",
       "      <td>NaN</td>\n",
       "      <td>NaN</td>\n",
       "      <td>NaN</td>\n",
       "      <td>NaN</td>\n",
       "      <td>NaN</td>\n",
       "      <td>NaN</td>\n",
       "      <td>NaN</td>\n",
       "      <td>NaN</td>\n",
       "      <td>NaN</td>\n",
       "      <td>641.532095</td>\n",
       "    </tr>\n",
       "  </tbody>\n",
       "</table>\n",
       "</div>"
      ],
      "text/plain": [
       "       index Date  Year Month  Customer Age Customer Gender Country State  \\\n",
       "34866  34866  NaN   NaN   NaN           NaN             NaN     NaN   NaN   \n",
       "\n",
       "      Product Category Sub Category  Quantity  Unit Cost  Unit Price  Cost  \\\n",
       "34866              NaN          NaN       NaN        NaN         NaN   NaN   \n",
       "\n",
       "          Revenue  \n",
       "34866  641.532095  "
      ]
     },
     "execution_count": 14,
     "metadata": {},
     "output_type": "execute_result"
    }
   ],
   "source": [
    "# view rows with missing values\n",
    "\n",
    "sales_data[sales_data.isnull().any(axis=1)]"
   ]
  },
  {
   "cell_type": "code",
   "execution_count": 15,
   "metadata": {},
   "outputs": [],
   "source": [
    "# drop missing values\n",
    "\n",
    "sales_data = sales_data.dropna()"
   ]
  },
  {
   "cell_type": "code",
   "execution_count": 16,
   "metadata": {},
   "outputs": [
    {
     "name": "stdout",
     "output_type": "stream",
     "text": [
      "index               0\n",
      "Date                0\n",
      "Year                0\n",
      "Month               0\n",
      "Customer Age        0\n",
      "Customer Gender     0\n",
      "Country             0\n",
      "State               0\n",
      "Product Category    0\n",
      "Sub Category        0\n",
      "Quantity            0\n",
      "Unit Cost           0\n",
      "Unit Price          0\n",
      "Cost                0\n",
      "Revenue             0\n",
      "dtype: int64\n"
     ]
    }
   ],
   "source": [
    "# check for missing values\n",
    "\n",
    "print(sales_data.isnull().sum())"
   ]
  },
  {
   "cell_type": "code",
   "execution_count": 17,
   "metadata": {},
   "outputs": [
    {
     "name": "stdout",
     "output_type": "stream",
     "text": [
      "0\n"
     ]
    }
   ],
   "source": [
    "# check for duplicates\n",
    "\n",
    "print(sales_data.duplicated().sum())"
   ]
  },
  {
   "cell_type": "code",
   "execution_count": 18,
   "metadata": {},
   "outputs": [],
   "source": [
    "# convert to datetime\n",
    "\n",
    "sales_data['Date'] = pd.to_datetime(sales_data['Date']) "
   ]
  },
  {
   "cell_type": "code",
   "execution_count": 19,
   "metadata": {},
   "outputs": [],
   "source": [
    "# convert year column to int\n",
    "\n",
    "sales_data['Year'] = sales_data['Year'].astype(int)"
   ]
  },
  {
   "attachments": {},
   "cell_type": "markdown",
   "metadata": {},
   "source": [
    "# III. Analyzing the data"
   ]
  }
 ],
 "metadata": {
  "kernelspec": {
   "display_name": "Python 3",
   "language": "python",
   "name": "python3"
  },
  "language_info": {
   "codemirror_mode": {
    "name": "ipython",
    "version": 3
   },
   "file_extension": ".py",
   "mimetype": "text/x-python",
   "name": "python",
   "nbconvert_exporter": "python",
   "pygments_lexer": "ipython3",
   "version": "3.11.1"
  },
  "orig_nbformat": 4,
  "vscode": {
   "interpreter": {
    "hash": "eb4b2838dea03cf2c54a2e3e131b8495ab6dfeefc1025843a585eed6466b3abe"
   }
  }
 },
 "nbformat": 4,
 "nbformat_minor": 2
}
