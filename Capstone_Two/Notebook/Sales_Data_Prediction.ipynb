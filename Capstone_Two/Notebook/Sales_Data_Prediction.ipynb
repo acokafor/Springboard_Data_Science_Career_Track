{
 "cells": [
  {
   "cell_type": "code",
   "execution_count": 1,
   "metadata": {},
   "outputs": [],
   "source": [
    "import pandas as pd\n",
    "import numpy as np\n",
    "import matplotlib.pyplot as plt\n",
    "import statsmodels.api as sm\n",
    "from statsmodels.tsa.stattools import adfuller\n",
    "from statsmodels.graphics.tsaplots import plot_acf, plot_pacf\n",
    "from statsmodels.tsa.arima.model import ARIMA\n",
    "from statsmodels.tsa.api import ExponentialSmoothing, SimpleExpSmoothing, Holt\n",
    "from sklearn.model_selection import train_test_split\n",
    "from sklearn.metrics import mean_squared_error, mean_absolute_error, r2_score"
   ]
  },
  {
   "cell_type": "code",
   "execution_count": 2,
   "metadata": {},
   "outputs": [],
   "source": [
    "# Read the data\n",
    "sales_data = pd.read_csv(r'../Raw_Data/SalesForCourse_quizz_table.csv')\n",
    "\n",
    "# Remove NaN values from the data\n",
    "sales_data[sales_data.isnull().any(axis=1)]\n",
    "sales_data.drop(34866, inplace=True)\n",
    "\n",
    "# Convert the \"Date\" column into a datetime format and set it as the index for the dataframe\n",
    "sales_data['Date'] = pd.to_datetime(sales_data['Date'])\n",
    "\n",
    "# Filter the dataframe to only include data from Germany\n",
    "sales_data = sales_data.loc[sales_data['Country'] == 'Germany']"
   ]
  },
  {
   "cell_type": "code",
   "execution_count": 3,
   "metadata": {},
   "outputs": [],
   "source": [
    "# Convert non-numeric columns to a numeric format\n",
    "month_dict = {'January': 1, 'February': 2, 'March': 3, 'April': 4, 'May': 5, 'June': 6,\n",
    "              'July': 7, 'August': 8, 'September': 9, 'October': 10, 'November': 11, 'December': 12}\n",
    "\n",
    "country_dict = {'United States': 1, 'United Kingdom': 2, 'Germany': 3, 'France': 4}\n",
    "\n",
    "sales_data['Month'] = sales_data['Month'].replace(month_dict)\n",
    "sales_data['Date'] = sales_data['Date'].apply(lambda x: x.toordinal())\n",
    "sales_data['Country'] = sales_data['Country'].replace(country_dict)"
   ]
  },
  {
   "cell_type": "code",
   "execution_count": 5,
   "metadata": {},
   "outputs": [
    {
     "name": "stdout",
     "output_type": "stream",
     "text": [
      "                            OLS Regression Results                            \n",
      "==============================================================================\n",
      "Dep. Variable:                Revenue   R-squared:                       0.720\n",
      "Model:                            OLS   Adj. R-squared:                  0.720\n",
      "Method:                 Least Squares   F-statistic:                     1873.\n",
      "Date:                Tue, 28 Feb 2023   Prob (F-statistic):               0.00\n",
      "Time:                        23:11:58   Log-Likelihood:                -27595.\n",
      "No. Observations:                3640   AIC:                         5.520e+04\n",
      "Df Residuals:                    3634   BIC:                         5.524e+04\n",
      "Df Model:                           5                                         \n",
      "Covariance Type:            nonrobust                                         \n",
      "==============================================================================\n",
      "                 coef    std err          t      P>|t|      [0.025      0.975]\n",
      "------------------------------------------------------------------------------\n",
      "const       1.074e+05   5.67e+04      1.895      0.058   -3701.956    2.18e+05\n",
      "Unit Price     0.7516      0.092      8.134      0.000       0.570       0.933\n",
      "Unit Cost      0.4959      0.115      4.317      0.000       0.271       0.721\n",
      "Year          38.7913    323.584      0.120      0.905    -595.633     673.216\n",
      "Month         -6.9922     27.108     -0.258      0.796     -60.141      46.157\n",
      "Date          -0.2517      0.883     -0.285      0.776      -1.983       1.480\n",
      "==============================================================================\n",
      "Omnibus:                     1001.158   Durbin-Watson:                   1.971\n",
      "Prob(Omnibus):                  0.000   Jarque-Bera (JB):             2356.461\n",
      "Skew:                           1.537   Prob(JB):                         0.00\n",
      "Kurtosis:                       5.468   Cond. No.                     5.30e+09\n",
      "==============================================================================\n",
      "\n",
      "Notes:\n",
      "[1] Standard Errors assume that the covariance matrix of the errors is correctly specified.\n",
      "[2] The condition number is large, 5.3e+09. This might indicate that there are\n",
      "strong multicollinearity or other numerical problems.\n"
     ]
    }
   ],
   "source": [
    "# Define the dependent and independent variables\n",
    "y = sales_data['Revenue']\n",
    "X = sales_data[['Unit Price', 'Unit Cost', 'Year', 'Month', 'Date']]\n",
    "\n",
    "# Add a constant term to the independent variables\n",
    "X = sm.add_constant(X)\n",
    "\n",
    "# Split the data into training and testing sets\n",
    "X_train, X_test, y_train, y_test = train_test_split(X, y, test_size=0.3, random_state=42)\n",
    "\n",
    "# Create a linear regression model\n",
    "model = sm.OLS(y_train, X_train).fit()\n",
    "\n",
    "# Print the model summary\n",
    "print(model.summary())\n"
   ]
  },
  {
   "cell_type": "code",
   "execution_count": null,
   "metadata": {},
   "outputs": [],
   "source": []
  },
  {
   "cell_type": "code",
   "execution_count": null,
   "metadata": {},
   "outputs": [],
   "source": []
  },
  {
   "attachments": {},
   "cell_type": "markdown",
   "metadata": {},
   "source": [
    "## Holt's Linear Trend Model"
   ]
  },
  {
   "attachments": {},
   "cell_type": "markdown",
   "metadata": {},
   "source": [
    "#### Germany's Sales Data: Janurary 1, 2015 - February 8, 2016 "
   ]
  },
  {
   "cell_type": "code",
   "execution_count": null,
   "metadata": {},
   "outputs": [],
   "source": [
    "# Read the data\n",
    "sales_data = pd.read_csv(r'../Raw_Data/SalesForCourse_quizz_table.csv')\n",
    "\n",
    "# Remove NaN values from the data\n",
    "sales_data[sales_data.isnull().any(axis=1)]\n",
    "sales_data.drop(34866, inplace=True)\n",
    "\n",
    "# Convert the \"Date\" column into a datetime format and set it as the index for the dataframe\n",
    "sales_data['Date'] = pd.to_datetime(sales_data['Date'])\n",
    "sales_data.set_index('Date', inplace=True)\n",
    "\n",
    "# Filter the dataframe to only include data from Germany\n",
    "sales_data = sales_data.loc[sales_data['Country'] == 'Germany']\n",
    "\n",
    "# Group the data by day and calculate the sum of the revenue for each day\n",
    "sales_sum = sales_data.loc['2015-01-01':'2016-02-08']\n",
    "daily_revenue = sales_sum['Revenue'].resample('D').sum()\n",
    "daily_revenue"
   ]
  },
  {
   "cell_type": "code",
   "execution_count": null,
   "metadata": {},
   "outputs": [],
   "source": [
    "# Plot the daily sales data\n",
    "daily_revenue.plot(figsize=(12, 6))\n",
    "plt.title(\"Germany's Daily Revenue for January 1, 2015 to February 8, 2016\")\n",
    "plt.xlabel('Date')\n",
    "plt.ylabel('Revenue')\n",
    "plt.show()"
   ]
  },
  {
   "attachments": {},
   "cell_type": "markdown",
   "metadata": {},
   "source": [
    "##### Germany's Forecasted Revenue for Week of February 15 - February 28, 2016"
   ]
  },
  {
   "cell_type": "code",
   "execution_count": null,
   "metadata": {},
   "outputs": [],
   "source": [
    "model = Holt(daily_revenue)\n",
    "model_fit = model.fit()\n",
    "forecast = model_fit.predict(start='2016-02-15', end='2016-02-22')"
   ]
  },
  {
   "cell_type": "code",
   "execution_count": null,
   "metadata": {},
   "outputs": [],
   "source": [
    "plt.figure(figsize=(10, 6))\n",
    "plt.plot(daily_revenue)\n",
    "plt.plot(forecast)\n",
    "plt.title(\"Germany's Forecasted Daily Revenue in Feb 15 - Feb 22, 2016\")\n",
    "plt.xlabel('Date')\n",
    "plt.ylabel('Revenue')\n",
    "plt.legend(['Actual', 'Forecast'])\n",
    "plt.show()"
   ]
  },
  {
   "cell_type": "code",
   "execution_count": null,
   "metadata": {},
   "outputs": [],
   "source": [
    "# Group the data by day and calculate the sum of the revenue for each day\n",
    "sales_feb = sales_data.loc['2016-02-15':'2016-02-22']\n",
    "daily_revenue = sales_feb['Revenue'].resample('D').sum()\n",
    "\n",
    "# Convert the NumPy array to a Python list\n",
    "forecast_list = forecast.tolist()\n",
    "\n",
    "# Round the values in the list using a list comprehension\n",
    "forecast_rounded = [round(value, 0) for value in forecast_list]\n",
    "\n",
    "# Convert the rounded list back to a NumPy array\n",
    "forecast_rounded = np.array(forecast_rounded)\n",
    "\n",
    "# Print Forecasted 'Revenue' for February 15 - February 22, 2016\n",
    "print('Forecasted Revenue for February 15 - February 22, 2016 is:', forecast_rounded, '\\n')\n",
    "\n",
    "# Print Actual 'Revenue' for February 15 - February 22, 2016 \n",
    "print('Actual Revenue for February 15 - February 22, 2016 is:', daily_revenue.values)"
   ]
  },
  {
   "cell_type": "code",
   "execution_count": null,
   "metadata": {},
   "outputs": [],
   "source": [
    "# Plot the forecasted and actual revenue data\n",
    "plt.figure(figsize=(12, 6))\n",
    "plt.plot(forecast)\n",
    "plt.plot(daily_revenue)\n",
    "plt.title(\"Germany's Forecasted and Actual Revenue in February 15-28 2016\")\n",
    "plt.xlabel('Date')\n",
    "plt.ylabel('Revenue')\n",
    "plt.legend(['Forecast', 'Actual'])\n",
    "plt.show()"
   ]
  },
  {
   "cell_type": "code",
   "execution_count": null,
   "metadata": {},
   "outputs": [],
   "source": [
    "# Calculate the mae, mse, rmse, and r2 of the model\n",
    "mae = mean_absolute_error(daily_revenue, forecast)\n",
    "mse = mean_squared_error(daily_revenue, forecast)\n",
    "rmse = np.sqrt(mse)\n",
    "r2 = r2_score(daily_revenue, forecast)\n",
    "\n",
    "print('Mean Absolute Error:', mae)\n",
    "print('Mean Squared Error:', mse)\n",
    "print('Root Mean Squared Error:', rmse)\n",
    "print('R2:', r2)"
   ]
  },
  {
   "attachments": {},
   "cell_type": "markdown",
   "metadata": {},
   "source": [
    "The Holt's Linear Trend Model was used to predict revenue for February 15 - February 22, 2016. The predicted revenue ranged from $64,828.75 to $65,918.40. However, the model's performance was not very good as indicated by the large Mean Absolute Error (MAE) of $10,506, and the large Mean Squared Error (MSE) of 256043002.27. The Root Mean Squared Error (RMSE) was also large, suggesting that the model is making large errors in its predictions. The R2 value was small, indicating that the model may need to be improved or replaced with a different model that is better suited to this dataset."
   ]
  },
  {
   "attachments": {},
   "cell_type": "markdown",
   "metadata": {},
   "source": [
    "#### Germany's Sales Data: February 1, 2015 - February 28, 2015 "
   ]
  },
  {
   "cell_type": "code",
   "execution_count": null,
   "metadata": {},
   "outputs": [],
   "source": [
    "# Read the data\n",
    "sales_data = pd.read_csv(r'../Raw_Data/SalesForCourse_quizz_table.csv')\n",
    "\n",
    "# Remove NaN values from the data\n",
    "sales_data[sales_data.isnull().any(axis=1)]\n",
    "sales_data.drop(34866, inplace=True)\n",
    "\n",
    "# Convert the \"Date\" column into a datetime format and set it as the index for the dataframe\n",
    "sales_data['Date'] = pd.to_datetime(sales_data['Date'])\n",
    "sales_data.set_index('Date', inplace=True)\n",
    "\n",
    "# Filter the dataframe to only include data from Germany\n",
    "sales_data = sales_data.loc[sales_data['Country'] == 'Germany']\n",
    "\n",
    "# Group the data by day and calculate the sum of the revenue for each day\n",
    "sales_sum = sales_data.loc['2015-02-01':'2015-02-28']\n",
    "daily_revenue = sales_sum['Revenue'].resample('D').sum() \n",
    "daily_revenue"
   ]
  },
  {
   "cell_type": "code",
   "execution_count": null,
   "metadata": {},
   "outputs": [],
   "source": [
    "# Plot the daily sales data\n",
    "daily_revenue.plot(figsize=(12, 6))\n",
    "plt.title(\"Germany's Daily Revenue for February 1, 2015 to February 28, 2015\")\n",
    "plt.xlabel('Date')\n",
    "plt.ylabel('Revenue')\n",
    "plt.show()"
   ]
  },
  {
   "attachments": {},
   "cell_type": "markdown",
   "metadata": {},
   "source": [
    "##### Germany's Forecasted Revenue for Week of February 15 - February 28, 2016"
   ]
  },
  {
   "cell_type": "code",
   "execution_count": null,
   "metadata": {},
   "outputs": [],
   "source": [
    "model = Holt(daily_revenue)\n",
    "model_fit = model.fit()\n",
    "forecast = model_fit.predict(start='2016-02-15', end='2016-02-22')"
   ]
  },
  {
   "cell_type": "code",
   "execution_count": null,
   "metadata": {},
   "outputs": [],
   "source": [
    "plt.figure(figsize=(10, 6))\n",
    "plt.plot(daily_revenue)\n",
    "plt.plot(forecast)\n",
    "plt.title(\"Germany's Forecasted Daily Revenue in Feb 15 - Feb 22, 2016\")\n",
    "plt.xlabel('Date')\n",
    "plt.ylabel('Revenue')\n",
    "plt.legend(['Actual', 'Forecast'])\n",
    "plt.show()"
   ]
  },
  {
   "cell_type": "code",
   "execution_count": null,
   "metadata": {},
   "outputs": [],
   "source": [
    "# Group the data by day and calculate the sum of the revenue for each day\n",
    "sales_feb = sales_data.loc['2016-02-15':'2016-02-22']\n",
    "daily_revenue = sales_feb['Revenue'].resample('D').sum()\n",
    "\n",
    "# Convert the NumPy array to a Python list\n",
    "forecast_list = forecast.tolist()\n",
    "\n",
    "# Round the values in the list using a list comprehension\n",
    "forecast_rounded = [round(value, 0) for value in forecast_list]\n",
    "\n",
    "# Convert the rounded list back to a NumPy array\n",
    "forecast_rounded = np.array(forecast_rounded)\n",
    "\n",
    "# Print forecasted values for the next 8 days\n",
    "print('Forecasted Revenue for February 15 - February 22, 2016 is:', forecast_rounded, '\\n')\n",
    "\n",
    "# Print 'Revenue' for February 15 - February 22, 2016 usings the sales_feb dataframe\n",
    "print('Actual Revenue for February 15 - February 22, 2016 is:', daily_revenue.values)"
   ]
  },
  {
   "cell_type": "code",
   "execution_count": null,
   "metadata": {},
   "outputs": [],
   "source": [
    "# Plot the forecasted and actual revenue data\n",
    "plt.figure(figsize=(12, 6))\n",
    "plt.plot(forecast)\n",
    "plt.plot(daily_revenue)\n",
    "plt.title(\"Germany's Forecasted and Actual Revenue in February 15-28 2016\")\n",
    "plt.xlabel('Date')\n",
    "plt.ylabel('Revenue')\n",
    "plt.legend(['Forecast', 'Actual'])\n",
    "plt.show()\n"
   ]
  },
  {
   "cell_type": "code",
   "execution_count": null,
   "metadata": {},
   "outputs": [],
   "source": [
    "# Calculate the mae, mse, rmse, and r2 of the model\n",
    "mae = mean_absolute_error(daily_revenue, forecast)\n",
    "mse = mean_squared_error(daily_revenue, forecast)\n",
    "rmse = np.sqrt(mse)\n",
    "r2 = r2_score(daily_revenue, forecast)\n",
    "\n",
    "print('Mean Absolute Error:', mae)\n",
    "print('Mean Squared Error:', mse)\n",
    "print('Root Mean Squared Error:', rmse)\n",
    "print('R2:', r2)"
   ]
  },
  {
   "attachments": {},
   "cell_type": "markdown",
   "metadata": {},
   "source": [
    "The Holt's Linear Trend Model was used to predict revenue for February 15 - February 22, 2016. However, the model's performance was poor as it resulted in a large Mean Absolute Error (MAE) of $62,643, Mean Squared Error (MSE) of 4.18 billion, and a Root Mean Squared Error (RMSE) of $64,675.57. The R2 value for the model was -15.19, indicating that the model is performing worse than before."
   ]
  },
  {
   "attachments": {},
   "cell_type": "markdown",
   "metadata": {},
   "source": [
    "## Simple Exponential Smoothing"
   ]
  },
  {
   "attachments": {},
   "cell_type": "markdown",
   "metadata": {},
   "source": [
    "#### Germany's Sales Data: Janurary 1, 2015 - February 8, 2016 "
   ]
  },
  {
   "cell_type": "code",
   "execution_count": null,
   "metadata": {},
   "outputs": [],
   "source": [
    "# Read the data\n",
    "sales_data = pd.read_csv(r'../Raw_Data/SalesForCourse_quizz_table.csv')\n",
    "\n",
    "# Remove NaN values from the data\n",
    "sales_data[sales_data.isnull().any(axis=1)]\n",
    "sales_data.drop(34866, inplace=True)\n",
    "\n",
    "# Convert the \"Date\" column into a datetime format and set it as the index for the dataframe\n",
    "sales_data['Date'] = pd.to_datetime(sales_data['Date'])\n",
    "sales_data.set_index('Date', inplace=True)\n",
    "\n",
    "# Filter the dataframe to only include data from Germany\n",
    "sales_data = sales_data.loc[sales_data['Country'] == 'Germany']\n",
    "\n",
    "# Group the data by day and calculate the sum of the revenue for each day\n",
    "sales_sum = sales_data.loc['2015-01-01':'2016-02-08']\n",
    "daily_revenue = sales_sum['Revenue'].resample('D').sum()\n",
    "daily_revenue"
   ]
  },
  {
   "cell_type": "code",
   "execution_count": null,
   "metadata": {},
   "outputs": [],
   "source": [
    "# Plot the daily sales data\n",
    "daily_revenue.plot(figsize=(12, 6))\n",
    "plt.title(\"Germany's Daily Revenue for January 1, 2015 to February 8, 2016\")\n",
    "plt.xlabel('Date')\n",
    "plt.ylabel('Revenue')\n",
    "plt.show()"
   ]
  },
  {
   "attachments": {},
   "cell_type": "markdown",
   "metadata": {},
   "source": [
    "##### Germany's Forecasted Revenue for Week of February 15 - February 28, 2016"
   ]
  },
  {
   "cell_type": "code",
   "execution_count": null,
   "metadata": {},
   "outputs": [],
   "source": [
    "model = SimpleExpSmoothing(daily_revenue)\n",
    "model_fit = model.fit()\n",
    "forecast = model_fit.predict(start='2016-02-09', end='2016-02-16')"
   ]
  },
  {
   "cell_type": "code",
   "execution_count": null,
   "metadata": {},
   "outputs": [],
   "source": [
    "plt.figure(figsize=(10, 6))\n",
    "plt.plot(daily_revenue)\n",
    "plt.plot(forecast)\n",
    "plt.title(\"Germany's Forecasted Daily Revenue in Feb 15 - Feb 22, 2016\")\n",
    "plt.xlabel('Date')\n",
    "plt.ylabel('Revenue')\n",
    "plt.legend(['Actual', 'Forecast'])\n",
    "plt.show()"
   ]
  },
  {
   "cell_type": "code",
   "execution_count": null,
   "metadata": {},
   "outputs": [],
   "source": [
    "# Group the data by day and calculate the sum of the revenue for each day\n",
    "sales_feb = sales_data.loc['2016-02-15':'2016-02-22']\n",
    "daily_revenue = sales_feb['Revenue'].resample('D').sum()\n",
    "\n",
    "# Convert the NumPy array to a Python list\n",
    "forecast_list = forecast.tolist()\n",
    "\n",
    "# Round the values in the list using a list comprehension\n",
    "forecast_rounded = [round(value, 0) for value in forecast_list]\n",
    "\n",
    "# Convert the rounded list back to a NumPy array\n",
    "forecast_rounded = np.array(forecast_rounded)\n",
    "\n",
    "# Print Forecasted 'Revenue' for February 15 - February 22, 2016\n",
    "print('Forecasted Revenue for February 15 - February 22, 2016 is:', forecast_rounded, '\\n')\n",
    "\n",
    "# Print Actual 'Revenue' for February 15 - February 22, 2016 \n",
    "print('Actual Revenue for February 15 - February 22, 2016 is:', daily_revenue.values)"
   ]
  },
  {
   "cell_type": "code",
   "execution_count": null,
   "metadata": {},
   "outputs": [],
   "source": [
    "# Plot the forecasted and actual revenue data\n",
    "plt.figure(figsize=(12, 6))\n",
    "plt.plot(forecast)\n",
    "plt.plot(daily_revenue)\n",
    "plt.title(\"Germany's Forecasted and Actual Revenue in February 15-28, 2016\")\n",
    "plt.xlabel('Date')\n",
    "plt.ylabel('Revenue')\n",
    "plt.legend(['Forecast', 'Actual'])\n",
    "plt.show()"
   ]
  },
  {
   "cell_type": "code",
   "execution_count": null,
   "metadata": {},
   "outputs": [],
   "source": [
    "# Calculate the mae, mse, rmse, and r2 of the model\n",
    "mae = mean_absolute_error(daily_revenue, forecast)\n",
    "mse = mean_squared_error(daily_revenue, forecast)\n",
    "rmse = np.sqrt(mse)\n",
    "r2 = r2_score(daily_revenue, forecast)\n",
    "\n",
    "print('Mean Absolute Error:', mae)\n",
    "print('Mean Squared Error:', mse)\n",
    "print('Root Mean Squared Error:', rmse)\n",
    "print('R2:', r2)"
   ]
  },
  {
   "attachments": {},
   "cell_type": "markdown",
   "metadata": {},
   "source": [
    "#### Germany's Sales Data: February 1, 2015 - February 28, 2015 "
   ]
  },
  {
   "cell_type": "code",
   "execution_count": null,
   "metadata": {},
   "outputs": [],
   "source": [
    "# Read the data\n",
    "sales_data = pd.read_csv(r'../Raw_Data/SalesForCourse_quizz_table.csv')\n",
    "\n",
    "# Remove NaN values from the data\n",
    "sales_data[sales_data.isnull().any(axis=1)]\n",
    "sales_data.drop(34866, inplace=True)\n",
    "\n",
    "# Convert the \"Date\" column into a datetime format and set it as the index for the dataframe\n",
    "sales_data['Date'] = pd.to_datetime(sales_data['Date'])\n",
    "sales_data.set_index('Date', inplace=True)\n",
    "\n",
    "# Filter the dataframe to only include data from Germany\n",
    "sales_data = sales_data.loc[sales_data['Country'] == 'Germany']\n",
    "\n",
    "# Group the data by day and calculate the sum of the revenue for each day\n",
    "sales_sum = sales_data.loc['2015-02-01':'2015-02-28']\n",
    "daily_revenue = sales_sum['Revenue'].resample('D').sum() \n",
    "daily_revenue"
   ]
  },
  {
   "cell_type": "code",
   "execution_count": null,
   "metadata": {},
   "outputs": [],
   "source": [
    "model = SimpleExpSmoothing(daily_revenue)\n",
    "model_fit = model.fit()\n",
    "forecast = model_fit.predict(start='2016-02-15', end='2016-02-22')"
   ]
  },
  {
   "cell_type": "code",
   "execution_count": null,
   "metadata": {},
   "outputs": [],
   "source": [
    "plt.figure(figsize=(10, 6))\n",
    "plt.plot(daily_revenue)\n",
    "plt.plot(forecast)\n",
    "plt.title(\"Germany's Forecasted Daily Revenue in Feb 15 - Feb 22, 2016\")\n",
    "plt.xlabel('Date')\n",
    "plt.ylabel('Revenue')\n",
    "plt.legend(['Actual', 'Forecast'])\n",
    "plt.show()"
   ]
  },
  {
   "cell_type": "code",
   "execution_count": null,
   "metadata": {},
   "outputs": [],
   "source": [
    "# Group the data by day and calculate the sum of the revenue for each day\n",
    "sales_feb = sales_data.loc['2016-02-15':'2016-02-22']\n",
    "daily_revenue = sales_feb['Revenue'].resample('D').sum()\n",
    "\n",
    "# Convert the NumPy array to a Python list\n",
    "forecast_list = forecast.tolist()\n",
    "\n",
    "# Round the values in the list using a list comprehension\n",
    "forecast_rounded = [round(value, 0) for value in forecast_list]\n",
    "\n",
    "# Convert the rounded list back to a NumPy array\n",
    "forecast_rounded = np.array(forecast_rounded)\n",
    "\n",
    "# Print Forecasted 'Revenue' for February 15 - February 22, 2016\n",
    "print('Forecasted Revenue for February 15 - February 22, 2016 is:', forecast_rounded, '\\n')\n",
    "\n",
    "# Print Actual 'Revenue' for February 15 - February 22, 2016 \n",
    "print('Actual Revenue for February 15 - February 22, 2016 is:', daily_revenue.values)"
   ]
  },
  {
   "cell_type": "code",
   "execution_count": null,
   "metadata": {},
   "outputs": [],
   "source": [
    "# Plot the forecasted and actual revenue data\n",
    "plt.figure(figsize=(12, 6))\n",
    "plt.plot(forecast)\n",
    "plt.plot(daily_revenue)\n",
    "plt.title(\"Germany's Forecasted and Actual Revenue in February 15-28, 2016\")\n",
    "plt.xlabel('Date')\n",
    "plt.ylabel('Revenue')\n",
    "plt.legend(['Forecast', 'Actual'])\n",
    "plt.show()"
   ]
  },
  {
   "cell_type": "code",
   "execution_count": null,
   "metadata": {},
   "outputs": [],
   "source": [
    "# Calculate the mae, mse, rmse, and r2 of the model\n",
    "mae = mean_absolute_error(daily_revenue, forecast)\n",
    "mse = mean_squared_error(daily_revenue, forecast)\n",
    "rmse = np.sqrt(mse)\n",
    "r2 = r2_score(daily_revenue, forecast)\n",
    "\n",
    "print('Mean Absolute Error:', mae)\n",
    "print('Mean Squared Error:', mse)\n",
    "print('Root Mean Squared Error:', rmse)\n",
    "print('R2:', r2)"
   ]
  }
 ],
 "metadata": {
  "kernelspec": {
   "display_name": "Python 3",
   "language": "python",
   "name": "python3"
  },
  "language_info": {
   "codemirror_mode": {
    "name": "ipython",
    "version": 3
   },
   "file_extension": ".py",
   "mimetype": "text/x-python",
   "name": "python",
   "nbconvert_exporter": "python",
   "pygments_lexer": "ipython3",
   "version": "3.11.1"
  },
  "orig_nbformat": 4,
  "vscode": {
   "interpreter": {
    "hash": "eb4b2838dea03cf2c54a2e3e131b8495ab6dfeefc1025843a585eed6466b3abe"
   }
  }
 },
 "nbformat": 4,
 "nbformat_minor": 2
}
