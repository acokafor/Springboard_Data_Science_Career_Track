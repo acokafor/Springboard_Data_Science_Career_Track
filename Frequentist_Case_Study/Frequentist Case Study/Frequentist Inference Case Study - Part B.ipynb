{
 "cells": [
  {
   "cell_type": "markdown",
   "metadata": {},
   "source": [
    "# Frequentist Inference Case Study - Part B"
   ]
  },
  {
   "cell_type": "markdown",
   "metadata": {},
   "source": [
    "## Learning objectives"
   ]
  },
  {
   "cell_type": "markdown",
   "metadata": {},
   "source": [
    "Welcome to Part B of the Frequentist inference case study! The purpose of this case study is to help you apply the concepts associated with Frequentist inference in Python. In particular, you'll practice writing Python code to apply the following statistical concepts: \n",
    "* the _z_-statistic\n",
    "* the _t_-statistic\n",
    "* the difference and relationship between the two\n",
    "* the Central Limit Theorem, including its assumptions and consequences\n",
    "* how to estimate the population mean and standard deviation from a sample\n",
    "* the concept of a sampling distribution of a test statistic, particularly for the mean\n",
    "* how to combine these concepts to calculate a confidence interval"
   ]
  },
  {
   "cell_type": "markdown",
   "metadata": {},
   "source": [
    "In the previous notebook, we used only data from a known normal distribution. **You'll now tackle real data, rather than simulated data, and answer some relevant real-world business problems using the data.**"
   ]
  },
  {
   "cell_type": "markdown",
   "metadata": {},
   "source": [
    "## Hospital medical charges"
   ]
  },
  {
   "cell_type": "markdown",
   "metadata": {},
   "source": [
    "Imagine that a hospital has hired you as their data scientist. An administrator is working on the hospital's business operations plan and needs you to help them answer some business questions. \n",
    "\n",
    "In this assignment notebook, you're going to use frequentist statistical inference on a data sample to answer the questions:\n",
    "* has the hospital's revenue stream fallen below a key threshold?\n",
    "* are patients with insurance really charged different amounts than those without?\n",
    "\n",
    "Answering that last question with a frequentist approach makes some assumptions, and requires some knowledge, about the two groups."
   ]
  },
  {
   "cell_type": "markdown",
   "metadata": {},
   "source": [
    "We are going to use some data on medical charges obtained from [Kaggle](https://www.kaggle.com/easonlai/sample-insurance-claim-prediction-dataset). \n",
    "\n",
    "For the purposes of this exercise, assume the observations are the result of random sampling from our single hospital. Recall that in the previous assignment, we introduced the Central Limit Theorem (CLT), and its consequence that the distributions of sample statistics approach a normal distribution as $n$ increases. The amazing thing about this is that it applies to the sampling distributions of statistics that have been calculated from even highly non-normal distributions of data! Recall, also, that hypothesis testing is very much based on making inferences about such sample statistics. You're going to rely heavily on the CLT to apply frequentist (parametric) tests to answer the questions in this notebook."
   ]
  },
  {
   "cell_type": "code",
   "execution_count": 1,
   "metadata": {},
   "outputs": [],
   "source": [
    "import pandas as pd\n",
    "import numpy as np\n",
    "import matplotlib.pyplot as plt\n",
    "from scipy.stats import t\n",
    "from numpy.random import seed\n",
    "medical = pd.read_csv('insurance2.csv')"
   ]
  },
  {
   "cell_type": "code",
   "execution_count": 2,
   "metadata": {},
   "outputs": [
    {
     "data": {
      "text/plain": [
       "(1338, 8)"
      ]
     },
     "execution_count": 2,
     "metadata": {},
     "output_type": "execute_result"
    }
   ],
   "source": [
    "medical.shape"
   ]
  },
  {
   "cell_type": "code",
   "execution_count": 3,
   "metadata": {},
   "outputs": [
    {
     "data": {
      "text/html": [
       "<div>\n",
       "<style scoped>\n",
       "    .dataframe tbody tr th:only-of-type {\n",
       "        vertical-align: middle;\n",
       "    }\n",
       "\n",
       "    .dataframe tbody tr th {\n",
       "        vertical-align: top;\n",
       "    }\n",
       "\n",
       "    .dataframe thead th {\n",
       "        text-align: right;\n",
       "    }\n",
       "</style>\n",
       "<table border=\"1\" class=\"dataframe\">\n",
       "  <thead>\n",
       "    <tr style=\"text-align: right;\">\n",
       "      <th></th>\n",
       "      <th>age</th>\n",
       "      <th>sex</th>\n",
       "      <th>bmi</th>\n",
       "      <th>children</th>\n",
       "      <th>smoker</th>\n",
       "      <th>region</th>\n",
       "      <th>charges</th>\n",
       "      <th>insuranceclaim</th>\n",
       "    </tr>\n",
       "  </thead>\n",
       "  <tbody>\n",
       "    <tr>\n",
       "      <th>0</th>\n",
       "      <td>19</td>\n",
       "      <td>0</td>\n",
       "      <td>27.900</td>\n",
       "      <td>0</td>\n",
       "      <td>1</td>\n",
       "      <td>3</td>\n",
       "      <td>16884.92400</td>\n",
       "      <td>1</td>\n",
       "    </tr>\n",
       "    <tr>\n",
       "      <th>1</th>\n",
       "      <td>18</td>\n",
       "      <td>1</td>\n",
       "      <td>33.770</td>\n",
       "      <td>1</td>\n",
       "      <td>0</td>\n",
       "      <td>2</td>\n",
       "      <td>1725.55230</td>\n",
       "      <td>1</td>\n",
       "    </tr>\n",
       "    <tr>\n",
       "      <th>2</th>\n",
       "      <td>28</td>\n",
       "      <td>1</td>\n",
       "      <td>33.000</td>\n",
       "      <td>3</td>\n",
       "      <td>0</td>\n",
       "      <td>2</td>\n",
       "      <td>4449.46200</td>\n",
       "      <td>0</td>\n",
       "    </tr>\n",
       "    <tr>\n",
       "      <th>3</th>\n",
       "      <td>33</td>\n",
       "      <td>1</td>\n",
       "      <td>22.705</td>\n",
       "      <td>0</td>\n",
       "      <td>0</td>\n",
       "      <td>1</td>\n",
       "      <td>21984.47061</td>\n",
       "      <td>0</td>\n",
       "    </tr>\n",
       "    <tr>\n",
       "      <th>4</th>\n",
       "      <td>32</td>\n",
       "      <td>1</td>\n",
       "      <td>28.880</td>\n",
       "      <td>0</td>\n",
       "      <td>0</td>\n",
       "      <td>1</td>\n",
       "      <td>3866.85520</td>\n",
       "      <td>1</td>\n",
       "    </tr>\n",
       "  </tbody>\n",
       "</table>\n",
       "</div>"
      ],
      "text/plain": [
       "   age  sex     bmi  children  smoker  region      charges  insuranceclaim\n",
       "0   19    0  27.900         0       1       3  16884.92400               1\n",
       "1   18    1  33.770         1       0       2   1725.55230               1\n",
       "2   28    1  33.000         3       0       2   4449.46200               0\n",
       "3   33    1  22.705         0       0       1  21984.47061               0\n",
       "4   32    1  28.880         0       0       1   3866.85520               1"
      ]
     },
     "execution_count": 3,
     "metadata": {},
     "output_type": "execute_result"
    }
   ],
   "source": [
    "medical.head()"
   ]
  },
  {
   "cell_type": "markdown",
   "metadata": {},
   "source": [
    "__Q1:__ Plot the histogram of charges and calculate the mean and standard deviation. Comment on the appropriateness of these statistics for the data."
   ]
  },
  {
   "attachments": {},
   "cell_type": "markdown",
   "metadata": {},
   "source": [
    "__A:__ The mean is 13270.42 and the standard deviation is 12110.01. The data is not normally distributed and the mean is not a good representation of the data."
   ]
  },
  {
   "cell_type": "code",
   "execution_count": 4,
   "metadata": {},
   "outputs": [
    {
     "data": {
      "image/png": "[encoded data removed]",
      "text/plain": [
       "<Figure size 640x480 with 1 Axes>"
      ]
     },
     "metadata": {},
     "output_type": "display_data"
    }
   ],
   "source": [
    "#plotting the histogram of charges\n",
    "medical.charges.hist(bins=30)\n",
    "plt.xlabel('Charges')\n",
    "plt.ylabel('Frequency')\n",
    "plt.title('Distribution of Charges')\n",
    "plt.show()"
   ]
  },
  {
   "cell_type": "code",
   "execution_count": 5,
   "metadata": {},
   "outputs": [
    {
     "name": "stdout",
     "output_type": "stream",
     "text": [
      "Mean of the charges is:  13270.422265141257\n",
      "Standard deviation of the charges is:  12110.011236694001\n"
     ]
    }
   ],
   "source": [
    "# Mean of the charges\n",
    "medical.charges.mean()\n",
    "print('Mean of the charges is: ', medical.charges.mean())\n",
    "\n",
    "# Standard deviation of the charges\n",
    "medical.charges.std()\n",
    "print('Standard deviation of the charges is: ', medical.charges.std())"
   ]
  },
  {
   "cell_type": "markdown",
   "metadata": {},
   "source": [
    "__Q2:__ The administrator is concerned that the actual average charge has fallen below 12,000, threatening the hospital's operational model. On the assumption that these data represent a random sample of charges, how would you justify that these data allow you to answer that question? And what would be the most appropriate frequentist test, of the ones discussed so far, to apply?"
   ]
  },
  {
   "attachments": {},
   "cell_type": "markdown",
   "metadata": {},
   "source": [
    "__A:__ To answer the administrator's concern about the actual average charge falling below 12,000, we can use the mean and standard deviation of the sample data to calculate a confidence interval for the population mean. This will allow us to estimate a range of values within which we are reasonably certain that the true population mean falls. The most appropriate frequentist test to apply is the t-test because it can help determine whether the true population mean charge has fallen below 12,000. "
   ]
  },
  {
   "cell_type": "markdown",
   "metadata": {},
   "source": [
    "__Q3:__ Given the nature of the administrator's concern, what is the appropriate confidence interval in this case? A ***one-sided*** or ***two-sided*** interval? (Refresh your understanding of this concept on p. 399 of the *AoS*). Calculate the critical value and the relevant 95% confidence interval for the mean, and comment on whether the administrator should be concerned."
   ]
  },
  {
   "attachments": {},
   "cell_type": "markdown",
   "metadata": {},
   "source": [
    "__A:__ Given the administrator's concern that the actual average charge has fallen below 12,000, we should use a one-sided confidence interval in this case. The critical value is 1.96. The 95% confidence interval for the mean is 13919.89. The administrator should not be concerned because the true population mean charge is not below 12,000."
   ]
  },
  {
   "cell_type": "code",
   "execution_count": 6,
   "metadata": {},
   "outputs": [
    {
     "name": "stdout",
     "output_type": "stream",
     "text": [
      "Critical value of charges is:  1.961739888600845\n"
     ]
    }
   ],
   "source": [
    "# length of the charges\n",
    "n = len(medical.charges)\n",
    "\n",
    "# Calculate the critical value of charges\n",
    "critical_value = t.ppf(0.975, n-1)\n",
    "print('Critical value of charges is: ', critical_value)"
   ]
  },
  {
   "cell_type": "code",
   "execution_count": 7,
   "metadata": {},
   "outputs": [
    {
     "name": "stdout",
     "output_type": "stream",
     "text": [
      "One-sided 95% confidence interval is:  13919.890496089869\n"
     ]
    }
   ],
   "source": [
    "# Calculate the margin of error\n",
    "margin_of_error = critical_value * (medical.charges.std()/np.sqrt(n))\n",
    "\n",
    "# Calculate the one-sided 95% confidence interval\n",
    "confidence_interval = medical.charges.mean() + margin_of_error\n",
    "print('One-sided 95% confidence interval is: ', confidence_interval)"
   ]
  },
  {
   "cell_type": "code",
   "execution_count": 8,
   "metadata": {},
   "outputs": [],
   "source": [
    "# The 95% confidence interval is 13919.070291855025. The administrator of the medical insurance company should not be concerned."
   ]
  },
  {
   "cell_type": "markdown",
   "metadata": {},
   "source": [
    "The administrator then wants to know whether people with insurance really are charged a different amount to those without.\n",
    "\n",
    "__Q4:__ State the null and alternative hypothesis here. Use the _t_-test for the difference between means, where the pooled standard deviation of the two groups is given by:\n",
    "\\begin{equation}\n",
    "s_p = \\sqrt{\\frac{(n_0 - 1)s^2_0 + (n_1 - 1)s^2_1}{n_0 + n_1 - 2}}\n",
    "\\end{equation}\n",
    "\n",
    "and the *t*-test statistic is then given by:\n",
    "\n",
    "\\begin{equation}\n",
    "t = \\frac{\\bar{x}_0 - \\bar{x}_1}{s_p \\sqrt{1/n_0 + 1/n_1}}.\n",
    "\\end{equation}\n",
    "\n",
    "(If you need some reminding of the general definition of ***t-statistic***, check out the definition on p. 404 of *AoS*). \n",
    "\n",
    "What assumption about the variances of the two groups are we making here?"
   ]
  },
  {
   "attachments": {},
   "cell_type": "markdown",
   "metadata": {},
   "source": [
    "__A:__ The null hypothesis is that people with insurance are not charged a different amount to those without. The alternative hypothesis is that people with insurance are charged a different amount to those without. We are assuming that the variances of the two groups are equal."
   ]
  },
  {
   "cell_type": "markdown",
   "metadata": {},
   "source": [
    "__Q5:__ Perform this hypothesis test both manually, using the above formulae, and then using the appropriate function from [scipy.stats](https://docs.scipy.org/doc/scipy/reference/stats.html#statistical-tests) (hint, you're looking for a function to perform a _t_-test on two independent samples). For the manual approach, calculate the value of the test statistic and then its probability (the p-value). Verify you get the same results from both."
   ]
  },
  {
   "attachments": {},
   "cell_type": "markdown",
   "metadata": {},
   "source": [
    "__A:__ Manually: t-statistic:  11.89329903087671; p-value:  0.0. \n",
    "Scipy.stats: t-statistic:  11.89329903087671; p-value:  0.0"
   ]
  },
  {
   "cell_type": "code",
   "execution_count": 11,
   "metadata": {},
   "outputs": [
    {
     "name": "stdout",
     "output_type": "stream",
     "text": [
      "Manually:\n",
      "t-statistic:  11.89329903087671\n",
      "p-value:  0.0\n",
      "Reject the null hypothesis\n"
     ]
    }
   ],
   "source": [
    "charges_with_insurance = medical[medical.insuranceclaim == 1].charges\n",
    "charges_without_insurance = medical[medical.insuranceclaim == 0].charges\n",
    "\n",
    "# Calculate the sample sizes\n",
    "n_with_insurance = len(charges_with_insurance)\n",
    "n_without_insurance = len(charges_without_insurance)\n",
    "\n",
    "# Calculate the sample means\n",
    "mean_with_insurance = np.mean(charges_with_insurance)\n",
    "mean_without_insurance = np.mean(charges_without_insurance)\n",
    "\n",
    "# Calculate the sample standard deviations\n",
    "std_with_insurance = np.std(charges_with_insurance, ddof=1)\n",
    "std_without_insurance = np.std(charges_without_insurance, ddof=1)\n",
    "\n",
    "# Calculate the pooled standard deviation\n",
    "sp = np.sqrt(((n_with_insurance-1)*(std_with_insurance**2) + (n_without_insurance-1)*(std_without_insurance**2))/(n_with_insurance+n_without_insurance-2))\n",
    "\n",
    "# Calculate the t-statistic\n",
    "t_stat = (mean_with_insurance - mean_without_insurance)/(sp*np.sqrt((1/n_with_insurance)+(1/n_without_insurance)))\n",
    "\n",
    "# Determine degrees of freedom\n",
    "df = n_with_insurance + n_without_insurance - 2\n",
    "\n",
    "# Set the significance level\n",
    "alpha = 0.05\n",
    "\n",
    "# Calculate the critical value\n",
    "cv = t.ppf(1 - alpha, df)\n",
    "\n",
    "# Calculate the confidence interval\n",
    "se = sp * np.sqrt((1/n_with_insurance)+(1/n_without_insurance))\n",
    "ci = [mean_with_insurance - mean_without_insurance - cv*se, mean_with_insurance - mean_without_insurance + np.inf]\n",
    "\n",
    "# Calculate the p-value\n",
    "p_value = 1 - t.cdf(t_stat, df)\n",
    "\n",
    "# Print the results\n",
    "print(\"Manually:\")\n",
    "print(\"t-statistic: \", t_stat)\n",
    "print(\"p-value: \", p_value)\n",
    "if t_stat > cv:\n",
    "    print(\"Reject the null hypothesis\")\n",
    "else:\n",
    "    print(\"Fail to reject the null hypothesis\")"
   ]
  },
  {
   "cell_type": "code",
   "execution_count": 12,
   "metadata": {},
   "outputs": [
    {
     "name": "stdout",
     "output_type": "stream",
     "text": [
      "t-statistic:  11.89329903087671\n",
      "p-value:  0.0\n",
      "Reject the null hypothesis\n"
     ]
    }
   ],
   "source": [
    "charges_with_insurance = medical[medical.insuranceclaim == 1].charges\n",
    "charges_without_insurance = medical[medical.insuranceclaim == 0].charges\n",
    "\n",
    "# Calculate the sample sizes\n",
    "n_with_insurance = len(charges_with_insurance)\n",
    "n_without_insurance = len(charges_without_insurance)\n",
    "\n",
    "# Calculate the sample means\n",
    "mean_with_insurance = np.mean(charges_with_insurance)\n",
    "mean_without_insurance = np.mean(charges_without_insurance)\n",
    "\n",
    "# Calculate the sample standard deviations\n",
    "std_with_insurance = np.std(charges_with_insurance, ddof=1)\n",
    "std_without_insurance = np.std(charges_without_insurance, ddof=1)\n",
    "\n",
    "# Calculate the pooled standard deviation\n",
    "sp = np.sqrt(((n_with_insurance-1)*(std_with_insurance**2) + (n_without_insurance-1)*(std_without_insurance**2))/(n_with_insurance+n_without_insurance-2))\n",
    "\n",
    "# Calculate the t-statistic\n",
    "t_stat = (mean_with_insurance - mean_without_insurance)/(sp*np.sqrt((1/n_with_insurance)+(1/n_without_insurance)))\n",
    "\n",
    "# Determine degrees of freedom\n",
    "df = n_with_insurance + n_without_insurance - 2\n",
    "\n",
    "# Set the significance level\n",
    "alpha = 0.05\n",
    "\n",
    "# Calculate the critical value\n",
    "cv = t.ppf(1 - alpha, df)\n",
    "\n",
    "# Calculate the confidence interval\n",
    "se = sp * np.sqrt((1/n_with_insurance)+(1/n_without_insurance))\n",
    "ci = [mean_with_insurance - mean_without_insurance - cv*se, mean_with_insurance - mean_without_insurance + np.inf]\n",
    "\n",
    "# Calculate the one-sided p-value\n",
    "p_value_one_sided = 1 - t.cdf(t_stat, df)\n",
    "\n",
    "# Double the one-sided p-value for a two-sided test\n",
    "p_value = p_value_one_sided * 2\n",
    "\n",
    "# Print the results\n",
    "print(\"t-statistic: \", t_stat)\n",
    "print(\"p-value: \", p_value)\n",
    "if t_stat > cv:\n",
    "    print(\"Reject the null hypothesis\")\n",
    "else:\n",
    "    print(\"Fail to reject the null hypothesis\")"
   ]
  },
  {
   "cell_type": "markdown",
   "metadata": {},
   "source": [
    "Congratulations! Hopefully you got the exact same numerical results. This shows that you correctly calculated the numbers by hand. Secondly, you used the correct function and saw that it's much easier to use. All you need to do is pass your data to it."
   ]
  },
  {
   "cell_type": "markdown",
   "metadata": {},
   "source": [
    "__Q6:__ Conceptual question: look through the documentation for statistical test functions in scipy.stats. You'll see the above _t_-test for a sample, but can you see an equivalent one for performing a *z*-test from a sample? Comment on your answer."
   ]
  },
  {
   "attachments": {},
   "cell_type": "markdown",
   "metadata": {},
   "source": [
    "__A:__ zscore(a[, axis, ddof, nan_policy])"
   ]
  },
  {
   "cell_type": "markdown",
   "metadata": {},
   "source": [
    "## Learning outcomes"
   ]
  },
  {
   "cell_type": "markdown",
   "metadata": {},
   "source": [
    "Having completed this project notebook, you now have good hands-on experience:\n",
    "* using the central limit theorem to help you apply frequentist techniques to answer questions that pertain to very non-normally distributed data from the real world\n",
    "* performing inference using such data to answer business questions\n",
    "* forming a hypothesis and framing the null and alternative hypotheses\n",
    "* testing this using a _t_-test"
   ]
  }
 ],
 "metadata": {
  "kernelspec": {
   "display_name": "Python 3",
   "language": "python",
   "name": "python3"
  },
  "language_info": {
   "codemirror_mode": {
    "name": "ipython",
    "version": 3
   },
   "file_extension": ".py",
   "mimetype": "text/x-python",
   "name": "python",
   "nbconvert_exporter": "python",
   "pygments_lexer": "ipython3",
   "version": "3.11.1"
  }
 },
 "nbformat": 4,
 "nbformat_minor": 2
}
